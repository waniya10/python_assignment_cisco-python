{
 "cells": [
  {
   "cell_type": "code",
   "execution_count": 1,
   "metadata": {},
   "outputs": [
    {
     "name": "stdout",
     "output_type": "stream",
     "text": [
      "Car is moving forward/backward\n",
      "Car is turning\n",
      "car is being stopped\n"
     ]
    }
   ],
   "source": [
    "class car:\n",
    "    def drive(self):\n",
    "        print(\"Car is moving forward/backward\")\n",
    "    def direction(self):\n",
    "        print(\"Car is turning\")\n",
    "    def brake(self):\n",
    "        print(\"car is being stopped\")\n",
    "\n",
    "model = car()\n",
    "color = car()\n",
    "name = car()\n",
    "engine = car()\n",
    "variant = car()\n",
    "\n",
    "car.drive(model)\n",
    "car.direction(model)\n",
    "car.brake(model)"
   ]
  },
  {
   "cell_type": "code",
   "execution_count": null,
   "metadata": {},
   "outputs": [],
   "source": []
  }
 ],
 "metadata": {
  "kernelspec": {
   "display_name": "Python 3",
   "language": "python",
   "name": "python3"
  },
  "language_info": {
   "codemirror_mode": {
    "name": "ipython",
    "version": 3
   },
   "file_extension": ".py",
   "mimetype": "text/x-python",
   "name": "python",
   "nbconvert_exporter": "python",
   "pygments_lexer": "ipython3",
   "version": "3.7.4"
  }
 },
 "nbformat": 4,
 "nbformat_minor": 2
}
